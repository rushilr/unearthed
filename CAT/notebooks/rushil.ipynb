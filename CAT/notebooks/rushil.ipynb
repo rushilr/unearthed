{
 "cells": [
  {
   "cell_type": "code",
   "execution_count": 19,
   "metadata": {
    "collapsed": false
   },
   "outputs": [
    {
     "name": "stdout",
     "output_type": "stream",
     "text": [
      "['Gauge Cluster 1' 'Engine Control' 'Brake Control' 'CAT Data Link'\n",
      " 'System Voltage Low' 'Fuel Level Sensor' 'VIMS Main Module'\n",
      " 'Auto Lube Solenoid' 'Payload Monitoring' 'Solenoid Return 1'\n",
      " 'Solenoid Return 2' 'Solenoid Return 3' 'Final Drive Oil Bypass Solenoid'\n",
      " 'Transmission Solenoid 6' 'Engine Prelube Pressure Low' 'Fuel Level Low'\n",
      " 'Transmission Control' 'Boost Pressure Sensor' 'Steering Oil Level Low'\n",
      " 'Fuel Filter Restriction' 'Transmission Solenoid 4'\n",
      " 'Transmission Solenoid 7' 'Engine Coolant Level Low'\n",
      " 'Transmission Solenoid 3' 'Transmission Solenoid 5' 'Engine Oil Level Low'\n",
      " 'Machine Overloaded' 'Auto Lube Pressure Low' 'Auto Lube Pressure Sensor'\n",
      " 'Electrical System Voltage' 'Fuel Rail Pressure Sensor'\n",
      " 'Brake Pump Pressure Sensor' 'Transmission Abuse Warning'\n",
      " 'Coasting in Neutral Warning' 'Engine Oil Temperature High'\n",
      " 'Brake Pump Unloader Solenoid' 'Proprietary CAN Data Link'\n",
      " 'Steering Pump Pressure Low' 'Steering Oil Temperature High'\n",
      " 'Body Up while Machine in Motion' 'Engine Coolant Temperature High'\n",
      " 'Strut Pressure Sensor Left Rear' 'Fuel Water Separator Level High'\n",
      " 'Strut Pressure Sensor Left Front' 'Strut Pressure Sensor Right Rear'\n",
      " 'Transmission Oil Pressure Sensor' 'Brake Cooling Pump Drive Solenoid'\n",
      " 'Intake Manifold 2 Pressure Sensor' 'Turbo Inlet Temperature Left High'\n",
      " 'Right Turbo Inlet Temperature High' 'Transmission Oil Temperature Sensor'\n",
      " 'Brake Oil Temperature High Left Rear'\n",
      " 'Brake Oil Temperature High Left Front'\n",
      " 'Secondary Brake Pedal Position Sensor'\n",
      " 'Torque Converter Oil Temperature High'\n",
      " 'Brake Oil Temperature High Right Front'\n",
      " 'Transmission Charge Filter Restriction'\n",
      " 'Torque Converter Oil Temperature Sensor'\n",
      " 'Transmission Gear Lever Selector Sensor'\n",
      " 'Axle Pump Drive Oil Divert Solenoid Rear'\n",
      " 'Secondary Brake Accumulator Pressure Not'\n",
      " 'Strut Pressure Sensor Right Front' 'Torque Converter Filter Restriction'\n",
      " 'Transmission Lockup Clutch Solenoid'\n",
      " 'Brake Oil Temperature High Right Rear'\n",
      " 'Exhaust Differential Temperature High'\n",
      " 'Machine Upshift to Prevent Engine Overspeed'\n",
      " 'Electric Fuel Transfer Pump Outlet Pressure Low '\n",
      " 'Transmission Slip Detected in First Forward Gear'\n",
      " 'Transmission Slip Detected in First Reverse Gear' 'Travel Alarm'\n",
      " 'Brake Pump Charge Cycling Excessive'\n",
      " 'Hydraulic Case Drain Oil Filter Restriction'\n",
      " 'Service Brake Accumulator Pressure Not Responding'\n",
      " 'Torque Converter Lockup Clutch Slip Detected in Direct Drive'\n",
      " 'Brake Pump Command High' 'Payload Overload Limit Exceeded'\n",
      " 'Fuel Pressure Low' 'Trailer Door Position' 'Engine Sensor Supply'\n",
      " 'Fuel Rail Pressure Low' 'Cylinder 16 Fuel Injector'\n",
      " 'Cylinder 18 Fuel Injector' 'Chassis Control' 'VIMS Control Module'\n",
      " 'Intake Manifold Air Temperature High' 'Powertrain Starter'\n",
      " 'Auto Lube Level' 'Steering Pressure' 'Turbo Inlet Pressure 3'\n",
      " 'Machine Overspeed Warning' 'Fuel Rail Temperature High'\n",
      " 'Steering Oil Temperature Sensor' 'Turbo 4 Compressor Inlet Pressur'\n",
      " 'Turbo 1 Compressor Inlet Pressure' 'Turbo 2 Compressor Inlet Pressure'\n",
      " 'Brake Cooling Pump Not Responding to Command'\n",
      " 'Transmission Slip Detected in Fifth Forward Gear' 'Engine Overspeed'\n",
      " 'Engine Oil Pressure Low' 'Cylinder 7 Fuel Injector'\n",
      " 'Fuel Rail Pump Flow High' 'Engine Oil Filter Restriction Warning'\n",
      " 'Atmospheric Pressure Sensor' 'Engine Cooling Fan Speed High'\n",
      " 'Catalyst Differential Pressure Low ' 'Brake Oil Temperature Right Rear'\n",
      " 'Bottam Front Pump Chip' 'Brake Oil Temperature Left Rear'\n",
      " 'Boom Float Solenoid' 'Brake Oil Temperature Right Front' 'Action Alarm'\n",
      " 'Cylinder 2 Fuel Injector' 'Cylinder 4 Fuel Injector'\n",
      " 'Cylinder 12 Fuel Injector' 'Cylinder 14 Fuel Injector'\n",
      " 'Cylinder 9 Fuel Injector' 'Cylinder 6 Fuel Injector'\n",
      " 'Positive High Peak Frame Pitch' 'Transmission Oil Temperature High'\n",
      " 'Air Filter 3 Differential Pressure High' 'Negative High Peak Frame Bias'\n",
      " 'Transmission Slip Detected in Second Forward Gear' 'Tilt Link Sensor'\n",
      " 'Wastegate Solenoid' '8 Volt Supply'\n",
      " 'Air Filter 1 Differential Pressure High'\n",
      " 'Air Filter 2 Differential Pressure High'\n",
      " 'Air Filter 4 Differential Pressure High' 'Transmission Solenoid 1'\n",
      " 'Transmission Solenoid 2' 'Positive High Peak Frame Rack'\n",
      " 'Transmission Slip Detected in Sixth Forward Gear'\n",
      " 'Transmission Slip Detected in Third Forward Gear'\n",
      " 'Transmission Slip Detected in Fourth Forward Gear' '10 Volt Supply'\n",
      " 'J1939 Data Link' 'Fuel Transfer Pump Inlet Pressure Low'\n",
      " 'SAE J1939 Data Link 2' 'Medium Range Object Detection Sensor 5'\n",
      " 'Negative High Peak Frame Rack' 'Auto Lube Pressure Not Decreasing'\n",
      " 'Medium Range Object Detection Sensor 6' 'Positive High Peak Frame Bias'\n",
      " 'CAT Detect Short Range Object Detection Sensor 1'\n",
      " 'CAT Detect Short Range Object Detection Sensor 2'\n",
      " 'CAT Detect Medium Range Object Detection Sensor 7'\n",
      " 'CAT Detect Medium Range Object Detection Sensor 8'\n",
      " 'CAT Detect Medium Range Object Detection Sensor 1'\n",
      " 'CAT Detect Medium Range Object Detection Sensor 2'\n",
      " 'CAT Detect Medium Range Object Detection Sensor 4'\n",
      " 'Medium Range Object Detection Sensor 3'\n",
      " 'CAT Detect Medium Range Object Detection Sensor 5'\n",
      " 'CAT Detect Medium Range Object Detection Sensor 6'\n",
      " 'Cylinder 20 Fuel Injector' 'Medium Range Object Detection Sensor 1'\n",
      " 'CAT Detect Short Range Object Detection Sensor 3'\n",
      " 'CAT Detect Short Range Object Detection Sensor 4'\n",
      " 'Negative High Peak Frame Pitch']\n"
     ]
    },
    {
     "name": "stderr",
     "output_type": "stream",
     "text": [
      "/home/ubuntu/anaconda3/lib/python3.5/site-packages/IPython/core/interactiveshell.py:2723: DtypeWarning: Columns (10,14) have mixed types. Specify dtype option on import or set low_memory=False.\n",
      "  interactivity=interactivity, compiler=compiler, result=result)\n"
     ]
    }
   ],
   "source": [
    "import pandas as pd\n",
    "import numpy as np\n",
    "\n",
    "import os\n",
    "in_file = 'Truck Events Files/Events trucks 1_10.csv'\n",
    "\n",
    "events_data = pd.read_csv(in_file,encoding='cp1252')\n",
    "\n",
    "print(events_data.SCND_INFO_TYP[events_data.EVNT_LVL == 2].unique())"
   ]
  },
  {
   "cell_type": "code",
   "execution_count": null,
   "metadata": {
    "collapsed": true
   },
   "outputs": [],
   "source": []
  }
 ],
 "metadata": {
  "anaconda-cloud": {},
  "kernelspec": {
   "display_name": "Python [Root]",
   "language": "python",
   "name": "Python [Root]"
  },
  "language_info": {
   "codemirror_mode": {
    "name": "ipython",
    "version": 3
   },
   "file_extension": ".py",
   "mimetype": "text/x-python",
   "name": "python",
   "nbconvert_exporter": "python",
   "pygments_lexer": "ipython3",
   "version": "3.5.2"
  }
 },
 "nbformat": 4,
 "nbformat_minor": 0
}
